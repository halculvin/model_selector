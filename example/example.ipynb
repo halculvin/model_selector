{
 "cells": [
  {
   "cell_type": "markdown",
   "id": "bee0bdcf",
   "metadata": {},
   "source": [
    "## Import evaluate_regression and evaluate_classification functions"
   ]
  },
  {
   "cell_type": "code",
   "execution_count": 1,
   "id": "db0d7678",
   "metadata": {},
   "outputs": [],
   "source": [
    "from model_selector.regression.evaluate import evaluate_regression\n",
    "from model_selector.classification.evaluate import evaluate_classification"
   ]
  },
  {
   "cell_type": "markdown",
   "id": "dbde686a",
   "metadata": {},
   "source": [
    "## Provide path to dataset"
   ]
  },
  {
   "cell_type": "code",
   "execution_count": 8,
   "id": "6cf5b6a4",
   "metadata": {},
   "outputs": [],
   "source": [
    "file_path = \"Sales_Used_Cars.csv\""
   ]
  },
  {
   "cell_type": "markdown",
   "id": "5e8b5a58",
   "metadata": {},
   "source": [
    "## Run dataset through regression model"
   ]
  },
  {
   "cell_type": "code",
   "execution_count": 9,
   "id": "8a376eb4",
   "metadata": {},
   "outputs": [],
   "source": [
    "result = evaluate_regression(file_path, test_size=0.2)"
   ]
  },
  {
   "cell_type": "code",
   "execution_count": 10,
   "id": "450926cb",
   "metadata": {},
   "outputs": [
    {
     "data": {
      "text/html": [
       "<div>\n",
       "<style scoped>\n",
       "    .dataframe tbody tr th:only-of-type {\n",
       "        vertical-align: middle;\n",
       "    }\n",
       "\n",
       "    .dataframe tbody tr th {\n",
       "        vertical-align: top;\n",
       "    }\n",
       "\n",
       "    .dataframe thead th {\n",
       "        text-align: right;\n",
       "    }\n",
       "</style>\n",
       "<table border=\"1\" class=\"dataframe\">\n",
       "  <thead>\n",
       "    <tr style=\"text-align: right;\">\n",
       "      <th></th>\n",
       "      <th>Model Name</th>\n",
       "      <th>Mean Squared Error</th>\n",
       "      <th>Mean Absolute Error</th>\n",
       "      <th>R2 Score</th>\n",
       "    </tr>\n",
       "  </thead>\n",
       "  <tbody>\n",
       "    <tr>\n",
       "      <th>0</th>\n",
       "      <td>Multiple Linear</td>\n",
       "      <td>5.086716e+08</td>\n",
       "      <td>12368.960555</td>\n",
       "      <td>0.2752</td>\n",
       "    </tr>\n",
       "    <tr>\n",
       "      <th>1</th>\n",
       "      <td>Polynomial</td>\n",
       "      <td>3.998436e+08</td>\n",
       "      <td>9247.925635</td>\n",
       "      <td>0.4302</td>\n",
       "    </tr>\n",
       "    <tr>\n",
       "      <th>2</th>\n",
       "      <td>Random Forest</td>\n",
       "      <td>2.618763e+08</td>\n",
       "      <td>6995.447508</td>\n",
       "      <td>0.6268</td>\n",
       "    </tr>\n",
       "    <tr>\n",
       "      <th>3</th>\n",
       "      <td>Decision Tree</td>\n",
       "      <td>3.075457e+08</td>\n",
       "      <td>7509.329378</td>\n",
       "      <td>0.5618</td>\n",
       "    </tr>\n",
       "  </tbody>\n",
       "</table>\n",
       "</div>"
      ],
      "text/plain": [
       "        Model Name  Mean Squared Error  Mean Absolute Error  R2 Score\n",
       "0  Multiple Linear        5.086716e+08         12368.960555    0.2752\n",
       "1       Polynomial        3.998436e+08          9247.925635    0.4302\n",
       "2    Random Forest        2.618763e+08          6995.447508    0.6268\n",
       "3    Decision Tree        3.075457e+08          7509.329378    0.5618"
      ]
     },
     "execution_count": 10,
     "metadata": {},
     "output_type": "execute_result"
    }
   ],
   "source": [
    "result"
   ]
  },
  {
   "cell_type": "markdown",
   "id": "08f4a69c",
   "metadata": {},
   "source": [
    "### Model with the maximum R2 score is best suited to be used for the dataset"
   ]
  },
  {
   "cell_type": "code",
   "execution_count": null,
   "id": "7b004ced",
   "metadata": {},
   "outputs": [],
   "source": [
    "file_path = \"Data_classification.csv\""
   ]
  }
 ],
 "metadata": {
  "kernelspec": {
   "display_name": "Python 3",
   "language": "python",
   "name": "python3"
  },
  "language_info": {
   "codemirror_mode": {
    "name": "ipython",
    "version": 3
   },
   "file_extension": ".py",
   "mimetype": "text/x-python",
   "name": "python",
   "nbconvert_exporter": "python",
   "pygments_lexer": "ipython3",
   "version": "3.8.8"
  }
 },
 "nbformat": 4,
 "nbformat_minor": 5
}
